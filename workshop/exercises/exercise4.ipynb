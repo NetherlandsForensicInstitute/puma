{
 "cells": [
  {
   "cell_type": "markdown",
   "id": "330d153b-b227-46fb-b00b-71f74d31054c",
   "metadata": {},
   "source": [
    "# Exercise 4: Add your own application support\n",
    "It is time to bring the just acquired knowledge into practice.  \n",
    "You can add your own application of interest to Puma!  \n",
    "A setup has been added already in the form of a new app `YourApp`.  \n",
    "Here you can add the support for an application that you wish to support.  \n",
    "Inspiration needed? On the screen there are some suggestions that you can choose from. \n",
    "# TODO: Also add the list here!!\n",
    "\n",
    "Pay attention to the following:\n",
    "- The package name of your app should be added at the top of the implementation class\n",
    "- Add the version of the app that you are currently going to support\n"
   ]
  },
  {
   "cell_type": "code",
   "execution_count": 1,
   "id": "a9f77047-809a-4d5a-bbcf-6b05c8352c28",
   "metadata": {},
   "outputs": [
    {
     "name": "stdout",
     "output_type": "stream",
     "text": [
      "The history saving thread hit an unexpected error (OperationalError('attempt to write a readonly database')).History will not be written to the database.\n"
     ]
    },
    {
     "ename": "NameError",
     "evalue": "name 'YourApp' is not defined",
     "output_type": "error",
     "traceback": [
      "\u001b[0;31m---------------------------------------------------------------------------\u001b[0m",
      "\u001b[0;31mNameError\u001b[0m                                 Traceback (most recent call last)",
      "Cell \u001b[0;32mIn[1], line 1\u001b[0m\n\u001b[0;32m----> 1\u001b[0m your_app \u001b[38;5;241m=\u001b[39m \u001b[43mYourApp\u001b[49m()\n\u001b[1;32m      2\u001b[0m your_app\u001b[38;5;241m.\u001b[39myour_app_function()\n",
      "\u001b[0;31mNameError\u001b[0m: name 'YourApp' is not defined"
     ]
    }
   ],
   "source": [
    "your_app = YourApp()\n",
    "your_app.your_app_function()"
   ]
  },
  {
   "cell_type": "markdown",
   "id": "e8e8dde7-5984-467b-8fec-783b7a661d3c",
   "metadata": {},
   "source": [
    "## Requirements for merging\n",
    "- All contributions to the project must be submitted via pull request.\n",
    "- Ensure that your pull request addresses a specific issue or feature request. If none exists, please open a new issue first to discuss the changes you'd like to make.\n",
    "- Follow the [GitHub Flow](https://guides.github.com/introduction/flow/) workflow:\n",
    "  1. Create a new branch from `main`. The branch name should start with the issue number. When adding support for a new\n",
    "  version of an application, please do this in 1 single issue.\n",
    "  2. Make your changes and commit them with descriptive commit messages. See the sections [Adding New Functionality](#adding-new-functionality) or [Supporting new app versions](#supporting-new-app-versions).\n",
    "  3. Submit a pull request to the main repository's `main` branch.\n",
    "- Ensure that your code adheres to the project's [coding standards and conventions](#coding-standards).\n",
    "- Provide a clear and detailed description of your changes in the pull request description.\n",
    "\n",
    "\n",
    "### Development requirements\n",
    "- OS: we test on Windows & Linux\n",
    "- [Appium Inspector](https://github.com/appium/appium-inspector)\n",
    "- See the [README.md](README.md) for the usage requirements\n",
    "\n",
    "\n",
    "### Coding Standards\n",
    "- **PEP Compliance**: Adhere to PEP 8 for code style. Use PEP 484 for typing hints. Refer to the [PEP 8 documentation](https://www.python.org/dev/peps/pep-0008/) for guidelines.\n",
    "- **Typing Hints**: Use typing hints on all method signatures, including arguments and return values.\n",
    "- **Documentation**: PyDoc should be in the reStructuredText style, and include the parameters and return value.\n",
    "\n",
    "\n",
    "### Documentation\n",
    "- **Pydoc**: Add pydoc to all methods, fully explaining the method, its arguments, and any limitations. Protected methods (prefixed with `_`) do not need documentation.\n",
    "- **Update App README**: If a new major feature is added (e.g., stickers, pictures, calls), update the application-specific README to reflect these changes.\n",
    "\n",
    "#### App Version Support:\n",
    "Any pull request to the `main` branch must **fully** support a specific version of the application. (See [Supporting new app versions](#supporting-new-app-versions)) This version should be\n",
    "newer than the version currently supported by the codebase.\n",
    "\n",
    "Note that, for this workshop, not all requirements have to be met to push to the repository. Feel free to make a branch and push your application support for as far as you have it!"
   ]
  }
 ],
 "metadata": {
  "kernelspec": {
   "display_name": "Python 3 (ipykernel)",
   "language": "python",
   "name": "python3"
  },
  "language_info": {
   "codemirror_mode": {
    "name": "ipython",
    "version": 3
   },
   "file_extension": ".py",
   "mimetype": "text/x-python",
   "name": "python",
   "nbconvert_exporter": "python",
   "pygments_lexer": "ipython3",
   "version": "3.11.11"
  }
 },
 "nbformat": 4,
 "nbformat_minor": 5
}
