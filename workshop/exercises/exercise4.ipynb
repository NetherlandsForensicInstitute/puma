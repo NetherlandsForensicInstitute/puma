{
 "cells": [
  {
   "cell_type": "markdown",
   "id": "330d153b-b227-46fb-b00b-71f74d31054c",
   "metadata": {},
   "source": [
    "# Exercise 4: Add your own application support\n",
    "It is time to bring the just acquired knowledge into practice.  \n",
    "You can add your own application of interest to Puma!  \n",
    "A setup has been added already in the form of a new app `YourApp`.  \n",
    "Here you can add the support for an application that you wish to support.  \n",
    "Inspiration needed? On the screen there are some suggestions that you can choose from. # TODO: Also add the list here!!\n",
    "\n",
    "Pay attention to the following:\n",
    "- The package name of your app should be added at the top of the implementation class\n",
    "- Add the version of the app that you are currently going to support"
   ]
  },
  {
   "cell_type": "code",
   "execution_count": null,
   "id": "a9f77047-809a-4d5a-bbcf-6b05c8352c28",
   "metadata": {},
   "outputs": [],
   "source": [
    "your_app = YourApp()\n",
    "your_app.your_app_function()"
   ]
  }
 ],
 "metadata": {
  "kernelspec": {
   "display_name": "Python 3 (ipykernel)",
   "language": "python",
   "name": "python3"
  },
  "language_info": {
   "codemirror_mode": {
    "name": "ipython",
    "version": 3
   },
   "file_extension": ".py",
   "mimetype": "text/x-python",
   "name": "python",
   "nbconvert_exporter": "python",
   "pygments_lexer": "ipython3",
   "version": "3.11.11"
  }
 },
 "nbformat": 4,
 "nbformat_minor": 5
}
