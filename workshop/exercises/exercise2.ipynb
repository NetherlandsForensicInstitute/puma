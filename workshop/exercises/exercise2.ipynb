{
 "cells": [
  {
   "cell_type": "code",
   "execution_count": 1,
   "id": "initial_id",
   "metadata": {},
   "outputs": [],
   "source": [
    "# Initialization. Auto update changed modules so the kernel does not need to be restarted after changes\n",
    "%load_ext autoreload\n",
    "%autoreload 2\n",
    "\n",
    "# Set device udid. If your device udid is different, run adb devices and change the udid\n",
    "device_udid = \"emulator-5554\"\n"
   ]
  },
  {
   "cell_type": "markdown",
   "id": "98276ae89533d3b9",
   "metadata": {},
   "source": [
    "# Exercise 2: Add new functionality\n",
    "In this exercise, you will add new functionality to the camera app.\n",
    "Currently, the camera class can only take a picture. In this exercise, we will learn how to switch the camera\n",
    "and take a video.\n",
    "\n",
    "Try to execute below code, what happens?\n"
   ]
  },
  {
   "cell_type": "code",
   "execution_count": 6,
   "id": "8e21b71ee111d4f8",
   "metadata": {},
   "outputs": [],
   "source": [
    "import os, time\n",
    "os.chdir('../..')\n",
    "from puma.apps.android.open_camera.open_camera import OpenCameraActions\n",
    "\n",
    "camera = OpenCameraActions(device_udid)\n",
    "\n",
    "camera.take_picture()\n",
    "time.sleep(2)\n",
    "camera.switch_camera()\n",
    "time.sleep(2)\n",
    "camera.take_picture()"
   ]
  },
  {
   "cell_type": "markdown",
   "id": "8138ac2144b0263e",
   "metadata": {},
   "source": [
    "`switch_camera` has not been implemented yet. That is what you will do in this exercise. When adding new\n",
    "functionality to Puma, you will follow the following steps:\n",
    "- Manually exsplore the actions you want to automate on the device to get an idea of the steps you need to\n",
    "  implement\n",
    "- Use Appium Inspector to identify the UI elements you want to interact with\n",
    "- Write the Appium code to select the element and interact with it using XPATH\n",
    "\n",
    "We will take you through these steps below.\n"
   ]
  },
  {
   "attachments": {},
   "cell_type": "markdown",
   "id": "29306bf4ef29c606",
   "metadata": {},
   "source": [
    "# How Appium interacts with the App UI\n",
    "\n",
    "Before we get started we need to udnerstand how Appium interacts with the UI. On Android the UI consists\n",
    "of elements in a hierarchy, much like an XML document. Appium fetches this hierarchy through the Android\n",
    "Accesability API and exposes this as an XML document to the user. Usually, only visible elements are\n",
    "included, as invisible elements should not be loaded into the Android Accesibility service. However, not\n",
    "all apps are equally well written, and some apps laod in elements too early, while other apps do not\n",
    "load relevant data into the Accesability Service, leaving us navigating XML elements without any contents\n",
    "or attributes.\n",
    "\n",
    "Lucky for us, most of the time there's a few attributes we can use to interact with the desired UI element.\n",
    "Let's take a look at the following UI:\n",
    "\n",
    "<img src=\"resources/whatsapp.png\" alt=\"Alt Text\" width=\"300\">\n",
    "\n",
    "If we retrieve the XML element representing the send button (how we do that will be explained later in this\n",
    "exercise), it loks like this:\n",
    "```XML\n",
    "<android.widget.FrameLayout resource-id=\"com.whatsapp:id/send_container\">\n",
    "    <android.widget.ImageButton content-desc=\"Send\" resource-id=\"com.whatsapp:id/send\"/>\n",
    "<android.widget.FrameLayout/>\n",
    "```\n",
    "As you can see, we've the button itself is an `ImageButton` element nested inside a `FrameLayout` element.\n",
    "The good news is that either can be clicked to interact with the button, so we don't need to worry about that.\n",
    "You could idenitify the elements based on the element class, but in this case this will only work when there's\n",
    "just one `ImageButton`. As UIs can become very complex, we usually want something more spcific to go by, which\n",
    "is why we usually also look at attributes.\n",
    "Either of these elements can be identified by their `resource-id`, and the inner element also has a\n",
    "`content-desc` which we can use to identify it. Of these two, the preference usually goes to `resource-id`, as\n",
    "this value is indendant of the configured system language.\n",
    "\n",
    "If we take a look at one of the sent messages, we see the following XML, containing a third attribute that can\n",
    "be useful:\n",
    "```XML\n",
    "<android.widget.FrameLayout resource-id=\"com.whatsapp:id/conversation_text_row\">\n",
    "    <android.widget.TextView text=\"Hello there Alice, long time no see! How have you been??\" resource-id=\"com.whatsapp:id/message_text\"/>\n",
    "        <android.widget.LinearLayout resource-id=\"com.whatsapp:id/date_wrapper\">\n",
    "            <android.widget.TextView text=\"1:21 PM\" resource-id=\"com.whatsapp:id/date\"/>\n",
    "            <android.widget.ImageView content-desc=\"Delivered\" resource-id=\"com.whatsapp:id/status\"/>\n",
    "        </android.widget.LinearLayout>\n",
    "    </android.widget.FrameLayout>\n",
    "</android.widget.LinearLayout>\n",
    "```\n",
    "Here we can read the message contents in the `text` attribute, as well as the time the message was sent. Keep \n",
    "in mind that the `text` attribute is even more volatile than the `content-desc`, as it might be determined by\n",
    "both the system language and user input.\n",
    "\n",
    "So, to summarize:\n",
    "* The Android UI is exposed as an XML document through Appium\n",
    "* Selecting elements can be done by looking at the element class and the attribute values\n",
    "* In practice, the attributes `resource-id`, `content-desc` and `text` prove to be the most useful"
   ]
  },
  {
   "cell_type": "markdown",
   "id": "b99fa68d53aa084",
   "metadata": {},
   "source": [
    "# Appium Python Client\n",
    "To use Appium in Python, we use the Appium Python Client. The Appium Python Client works by sending commands to the Appium Server, which then communicates with the emulator. The interaction follows the WebDriver protocol, allowing automation of mobile applications similarly to how Selenium automates web browsers. First a webdriver session is initialized (see the AndroidAppiumActions class for the implementation). The webdriver has some functions to interact with elements, as well as retrieving information:\n",
    "```python\n",
    "# Open an app\n",
    "driver.activate_app(app_package)\n",
    "\n",
    "# Press the Android home key\n",
    "driver.press_keycode(AndroidKey.HOME)\n",
    "\n",
    "# Find an element in the current view\n",
    "driver.find_element(by=AppiumBy.XPATH, value=xpath)\n",
    "\n",
    "# Swipe from one coordinate to another\n",
    "driver.swipe(start_x, start_y, end_x, end_y)\n",
    "```\n",
    "\n",
    "Commands can be executed on the elements, such as clicking and sending keys (_i.e._ typing text in a text box.):\n",
    "```python\n",
    "shutter_element = self.driver.find_element(by=AppiumBy.XPATH, value=xpath)\n",
    "shutter_element.click()\n",
    "\n",
    "text_box = self.driver.find_element(by=AppiumBy.XPATH, value=xpath)\n",
    "text_box.send_keys(\"This is the text to insert into the text box\")\n",
    "```\n"
   ]
  },
  {
   "cell_type": "markdown",
   "id": "5b3e968f444c3968",
   "metadata": {},
   "source": [
    "# Finding XML elements\n",
    "As seen in the previous example, finding elements can be done with `webdriver`.find_element(). The element can be found in different ways:\n",
    "\n",
    "```python\n",
    "driver.find_element(by=AppiumBy.ID, value=\"id\")\n",
    "driver.find_element(by=AppiumBy.CLASS_NAME, value=\"class_name\")\n",
    "driver.find_element(by=AppiumBy.ACCESSIBILITY_ID, value=\"accessibility_id\")\n",
    "driver.find_element(by=AppiumBy.XPATH, value=\"xpath\")\n",
    "```\n",
    "\n",
    "As you can see, there are several ways to find elements. The first 3 are based on selecting a specific attribute. The last one in based on XPath. In Puma, we prefer to use XPath, as it enables us to make more complex queries to select elements. Moreover, when something changes in a new version of the application, only the value needs to be updated.\n"
   ]
  },
  {
   "cell_type": "markdown",
   "id": "fa0ed7a2e18d002d",
   "metadata": {},
   "source": [
    "# Appium inspector\n",
    "Appium Inspector is a GUI assistant tool for Appium, providing visual inspection of the application.\n",
    "1. Open Appium inspector.\n",
    "2. Under `Saved Capability Sets`, select `Emulator` and press `Start Session`. If you do not see saved capabilities, please refer to `workshop/resources/appium_inspector_capability_set.json` and add it.\n",
    "You now see your emulator screen on the left pane, here you can select elements. In the middle pane you see the xml representation of the current view in the app. On the right pane you see the information about the selected element.\n",
    "3. On the emulator, open the camera app and make sure you are in the home screen. Refresh AppiumInspector to update the screen if necessary.\n",
    "4. In Appium inspector, select the #TODO element in the top-right corner and look at the information about the element in the right pane.\n",
    "\n",
    "\n",
    "\n",
    "\n",
    "\n"
   ]
  },
  {
   "cell_type": "markdown",
   "id": "751c16990ce62a5",
   "metadata": {},
   "source": [
    "<details>\n",
    "  <summary style=\"font-size: 24px;\">What is the value of the class attribute of this element?TODO answer</summary>\n",
    "  TODO\n",
    "</details>"
   ]
  },
  {
   "cell_type": "markdown",
   "id": "32dd0e5f7d8d6a0e",
   "metadata": {},
   "source": [
    "<details>\n",
    "  <summary style=\"font-size: 24px;\">What attribute has the most uniquely identifying value?TODO answer</summary>\n",
    "  TODO\n",
    "</details>"
   ]
  },
  {
   "cell_type": "markdown",
   "id": "12c7d0a0fdbdbb7b",
   "metadata": {},
   "source": [
    "\n",
    "TODO Move this info on the right location\n",
    "Choose a unique attribute to select the element on. `content-desc` is usually the preferred attribute, but is not always\n",
    "present, or does not always have a uniquely identifying value. If that is the case, choose another attribute with a uniquely identifying value, such as the resource id or text. Appium Inspector gives a suggestion\n",
    "for the XPath to use. If the attribute value is language dependent, (e.g., \"send message\" vs. \"stuur bericht\"),\n",
    "ensure that it supports English.\n"
   ]
  },
  {
   "cell_type": "markdown",
   "id": "d6fe1027ead47594",
   "metadata": {},
   "source": [
    "# XPath expressions\n",
    "XML Path Language (XPath) provides a way to navigate through XML elements and attributes. TODO further explain"
   ]
  },
  {
   "cell_type": "markdown",
   "id": "e306ecc5cdef2cc3",
   "metadata": {},
   "source": [
    "Implement switch view to make a selfie"
   ]
  },
  {
   "cell_type": "markdown",
   "id": "65220d711d6a29db",
   "metadata": {},
   "source": [
    "Advanced: zoom in/out by pinching"
   ]
  }
 ],
 "metadata": {
  "kernelspec": {
   "display_name": "Python 3 (ipykernel)",
   "language": "python",
   "name": "python3"
  },
  "language_info": {
   "codemirror_mode": {
    "name": "ipython",
    "version": 3
   },
   "file_extension": ".py",
   "mimetype": "text/x-python",
   "name": "python",
   "nbconvert_exporter": "python",
   "pygments_lexer": "ipython3",
   "version": "3.13.1"
  }
 },
 "nbformat": 4,
 "nbformat_minor": 5
}
