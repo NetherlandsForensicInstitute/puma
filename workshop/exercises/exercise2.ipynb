{
 "cells": [
  {
   "cell_type": "markdown",
   "id": "98276ae89533d3b9",
   "metadata": {},
   "source": [
    "# Exercise 2: Multiple applications\n",
    "\n",
    "Puma also supports switching between supported applications.  \n",
    "This can be useful if you want to create test data over multiple applications at the same time.  \n",
    "In this exercise we will look into how this can be accomplished.  \n",
    "\n",
    "In the code block below we have added the structure how to switch between two different applications.  \n",
    "After that we have a written description of the actions we would like to have accomplished.  "
   ]
  },
  {
   "cell_type": "code",
   "execution_count": null,
   "id": "6e860e9e-32c2-4a70-afd0-db32eaf23291",
   "metadata": {},
   "outputs": [],
   "source": [
    "from puma.apps.android.one_app.one_app import OneAppActions\n",
    "from puma.apps.android.another_app.another_app import AnotherAppActions\n",
    "\n",
    "# Set device udid. If your device udid is different, run adb devices and change the udid\n",
    "device_udid = \"YOUR_DEVICE_UDID\"\n",
    "\n",
    "one_app = OneAppActions(device_udid)\n",
    "one_app.action()\n",
    "another_app = AnotherAppActions(device_udid)\n",
    "another_app.execute_another_action()\n",
    "# Switch back to the first application\n",
    "one_app.activate_app()\n",
    "one_app.action2()"
   ]
  },
  {
   "cell_type": "markdown",
   "id": "152a8121-25a1-4701-9c9d-b2dd9d65edbb",
   "metadata": {},
   "source": [
    "## 0. Setup device"
   ]
  },
  {
   "cell_type": "code",
   "execution_count": null,
   "id": "24cc15cf-c48d-489f-9c39-72345200cc52",
   "metadata": {},
   "outputs": [],
   "source": [
    "# Get the name of your connected device\n",
    "!adb devices"
   ]
  },
  {
   "cell_type": "code",
   "execution_count": null,
   "id": "c88c885e-47e7-4860-9eb3-1c3879835ccd",
   "metadata": {},
   "outputs": [],
   "source": [
    "# Set device udid. Fill in the device name printed by the previous cell\n",
    "device_udid = \"YOUR DEVICE UDID\""
   ]
  },
  {
   "cell_type": "markdown",
   "id": "1d7b90b6-2dc9-49c6-824b-c9e0622c0c73",
   "metadata": {},
   "source": [
    "## 1a. Opening TeleGuard\n",
    "\n",
    "Open TeleGuard and send a message to the same chat as exercise 1"
   ]
  },
  {
   "cell_type": "code",
   "execution_count": null,
   "id": "f69bdfe1-1f01-4272-ab1f-bca94565cb59",
   "metadata": {},
   "outputs": [],
   "source": [
    "from puma.apps.android.teleguard.teleguard import TeleguardActions\n",
    "\n",
    "# Here: Add opening of TeleGuard and sending a message"
   ]
  },
  {
   "cell_type": "markdown",
   "id": "2a2d249a-f812-43a2-8713-33f94052908f",
   "metadata": {},
   "source": [
    "## 1b. Taking a picture\n",
    "\n",
    "Now that we have TeleGuard open and send a message, we want to take a picture using the camera.\n",
    "Open the camera app and take a picture"
   ]
  },
  {
   "cell_type": "code",
   "execution_count": null,
   "id": "5b0f6fab-fbea-4b90-b031-60345e3624fb",
   "metadata": {},
   "outputs": [],
   "source": [
    "from puma.apps.android.open_camera.open_camera import OpenCameraActions\n",
    "\n",
    "# Here: Add opening of the camera app and taking a picture"
   ]
  },
  {
   "cell_type": "markdown",
   "id": "599e788e-e205-4d87-b6a8-579ee6100a52",
   "metadata": {},
   "source": [
    "## 1c. Open Teleguard again\n",
    "\n",
    "Now that you have taken a picture, you might want to share that good news!  \n",
    "Switch back to the TeleGuard application and send another message stating that you have just taken a picture."
   ]
  },
  {
   "cell_type": "code",
   "execution_count": null,
   "id": "33c01de3-ec50-4771-a00b-1c3dc732ef2a",
   "metadata": {},
   "outputs": [],
   "source": [
    "# Here: Add reopening TeleGuard and sending a celebratory message"
   ]
  },
  {
   "cell_type": "markdown",
   "id": "c83cf73f-272e-4be5-9080-3c9d923bf3f5",
   "metadata": {},
   "source": [
    "## Open Google Chrome\n",
    "\n",
    "As a final task, open the Google Chrome application"
   ]
  },
  {
   "cell_type": "code",
   "execution_count": null,
   "id": "9407a122-0ed7-425c-9003-2245e2efe1b2",
   "metadata": {},
   "outputs": [],
   "source": [
    "# Here: Open the Google Chrome application (have you thought of everything?)"
   ]
  },
  {
   "cell_type": "markdown",
   "id": "2236fd1e-be2f-438a-b1f7-e2c4fb85ae85",
   "metadata": {},
   "source": [
    "## Bonus exercise:\n",
    "Add Google Maps navigation to and from a landmark of your choosing"
   ]
  },
  {
   "cell_type": "code",
   "execution_count": null,
   "id": "4e07254f-e20c-461d-8975-3eb2144ea8b7",
   "metadata": {},
   "outputs": [],
   "source": [
    "# Here: Add opening Google Maps and start navigating from one landmark to another"
   ]
  }
 ],
 "metadata": {
  "kernelspec": {
   "display_name": "Python 3 (ipykernel)",
   "language": "python",
   "name": "python3"
  },
  "language_info": {
   "codemirror_mode": {
    "name": "ipython",
    "version": 3
   },
   "file_extension": ".py",
   "mimetype": "text/x-python",
   "name": "python",
   "nbconvert_exporter": "python",
   "pygments_lexer": "ipython3",
   "version": "3.13.2"
  }
 },
 "nbformat": 4,
 "nbformat_minor": 5
}
