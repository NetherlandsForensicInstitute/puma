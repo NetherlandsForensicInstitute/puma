{
 "cells": [
  {
   "cell_type": "markdown",
   "id": "d323f90cdc18a63c",
   "metadata": {},
   "source": [
    "# Exercise 1: Use Puma to send a message"
   ]
  },
  {
   "cell_type": "markdown",
   "id": "784f71d3bcbbe363",
   "metadata": {},
   "source": [
    "In this exercise, we will use existing functionality to learn how to use Puma. We will send a message in chat\n",
    "    app Teleguard.\n",
    "\n",
    "## 0. Set up Teleguard\n",
    "\n",
    "Because registering only needs to be done once, automating it with Puma does not really have added value. Thus, we will do the steps below manually:\n",
    "\n",
    "1. Open the app\n",
    "2. Tap Register\n",
    "3. Enter a username\n",
    "4. Agree to terms and tap register\n",
    "\n",
    "Your Teleguard ID is displayed in a \"chat\" with Teleguard, and can be shared with other users to message one another.\n",
    "\n",
    "Fill in your device udid and initialize TeleguardActions.\n",
    "\n",
    "The device udid can be found by running\n",
    "```bash\n",
    "adb devices\n",
    "```\n",
    "from your terminal, or execute the next block:\n"
   ]
  },
  {
   "metadata": {},
   "cell_type": "code",
   "outputs": [],
   "execution_count": null,
   "source": [
    "# Initialization. Auto update changed modules so the kernel does not need to be restarted after changes\n",
    "%load_ext autoreload\n",
    "%autoreload 2\n",
    "\n",
    "# Set device udid. If your device udid is different, run adb devices (cell below) and change the udid\n",
    "device_udid = \"emulator-5554\""
   ],
   "id": "dc9a1c51374c125b"
  },
  {
   "cell_type": "code",
   "execution_count": null,
   "id": "cc65b88dbc0a303",
   "metadata": {},
   "outputs": [],
   "source": [
    "!adb devices"
   ]
  },
  {
   "cell_type": "code",
   "execution_count": null,
   "id": "76d1e8172bad6f89",
   "metadata": {},
   "outputs": [],
   "source": [
    "from puma.apps.android.teleguard.teleguard import TeleguardActions\n",
    "\n",
    "teleguard = TeleguardActions(device_udid)\n"
   ]
  },
  {
   "cell_type": "markdown",
   "id": "235eaaef7ce837aa",
   "metadata": {},
   "source": [
    "## 1a. Add a contact\n",
    "If you are the inviter, you can add a contact based on their Teleguard ID. Our Teleguard ID is shown on the screen. You can also ask your neighbour's ID and chat with them.\n",
    "Enter the ID below and run the cell"
   ]
  },
  {
   "cell_type": "code",
   "execution_count": null,
   "id": "f6c194ccbd25dc07",
   "metadata": {},
   "outputs": [],
   "source": [
    "contact_id = '' # Teleguard ID of the person you want to add\n",
    "teleguard.add_contact(contact_id)"
   ]
  },
  {
   "cell_type": "markdown",
   "id": "d3b581410726eb6",
   "metadata": {},
   "source": [
    "## 1b. Accept invite\n",
    "If you are the invitee, accept the invite."
   ]
  },
  {
   "cell_type": "code",
   "execution_count": null,
   "id": "f8dd628eab3a4491",
   "metadata": {},
   "outputs": [],
   "source": [
    "teleguard.accept_invite()"
   ]
  },
  {
   "cell_type": "markdown",
   "id": "af79bbdb9adccb76",
   "metadata": {},
   "source": [
    "## 2. Send a message\n",
    "Send a message to the contact you just added. Enter their username and the message below.\n",
    "Look in the TeleguardActions class for the correct function to call:\n",
    "`puma.apps.android.teleguard.teleguard.TeleguardActions`"
   ]
  },
  {
   "cell_type": "code",
   "execution_count": null,
   "id": "acade0fe3801f89b",
   "metadata": {},
   "outputs": [],
   "source": [
    "recipient_username = '' # Username or group name you will send a message to\n",
    "message = '' # Message to send\n",
    "\n",
    "# Insert the correct function from TeleguardActions below to send a message\n"
   ]
  }
 ],
 "metadata": {
  "kernelspec": {
   "display_name": "Python 3 (ipykernel)",
   "language": "python",
   "name": "python3"
  },
  "language_info": {
   "codemirror_mode": {
    "name": "ipython",
    "version": 3
   },
   "file_extension": ".py",
   "mimetype": "text/x-python",
   "name": "python",
   "nbconvert_exporter": "python",
   "pygments_lexer": "ipython3",
   "version": "3.11.9"
  }
 },
 "nbformat": 4,
 "nbformat_minor": 5
}
