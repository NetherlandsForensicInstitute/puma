{
 "cells": [
  {
   "metadata": {},
   "cell_type": "markdown",
   "source": "# Exercise 1: Use Puma to send a message",
   "id": "d323f90cdc18a63c"
  },
  {
   "metadata": {},
   "cell_type": "markdown",
   "source": [
    "In this exercise, we will use existing functionality to learn how to use Puma. We will send a message in chat\n",
    "    app Teleguard.\n",
    "\n",
    "## 0. Set up Teleguard\n",
    "\n",
    "Because registering only needs to be done once, automating it with Puma does not really have added value. Thus, we will do the steps below manually:\n",
    "\n",
    "1. Open the app\n",
    "2. Tap Register\n",
    "3. Enter a username\n",
    "4. Agree to terms and tap register\n",
    "\n",
    "Your Teleguard ID is displayed in a \"chat\" with Teleguard, and can be shared with other users to message one another.\n",
    "\n",
    "Fill in your device udid and initialize TeleguardActions.\n",
    "\n",
    "The device udid can be found by running\n",
    "```bash\n",
    "adb devices\n",
    "```\n",
    "from your terminal, or execute the next block:\n"
   ],
   "id": "784f71d3bcbbe363"
  },
  {
   "metadata": {},
   "cell_type": "code",
   "source": "!adb devices",
   "id": "cc65b88dbc0a303",
   "outputs": [],
   "execution_count": null
  },
  {
   "metadata": {},
   "cell_type": "code",
   "source": [
    "from puma.apps.android.teleguard.teleguard import TeleguardActions\n",
    "\n",
    "device_udid = '' # This is the id of your device, execute `adb devices`\n",
    "teleguard = TeleguardActions(device_udid)\n"
   ],
   "id": "76d1e8172bad6f89",
   "outputs": [],
   "execution_count": null
  },
  {
   "metadata": {},
   "cell_type": "markdown",
   "source": [
    "## 1a. Add a contact\n",
    "If you are the inviter, you can add a contact based on their Teleguard ID. Our Teleguard ID is shown on the screen. You can also ask your neighbour's ID and chat with them.\n",
    "Enter the ID below and run the cell"
   ],
   "id": "235eaaef7ce837aa"
  },
  {
   "metadata": {},
   "cell_type": "code",
   "source": [
    "contact_id = '' # Teleguard ID of the person you want to add\n",
    "teleguard.add_contact(contact_id)"
   ],
   "id": "f6c194ccbd25dc07",
   "outputs": [],
   "execution_count": null
  },
  {
   "metadata": {},
   "cell_type": "markdown",
   "source": [
    "## 1b. Accept invite\n",
    "If you are the invitee, accept the invite."
   ],
   "id": "d3b581410726eb6"
  },
  {
   "metadata": {},
   "cell_type": "code",
   "source": "teleguard.accept_invite()",
   "id": "f8dd628eab3a4491",
   "outputs": [],
   "execution_count": null
  },
  {
   "metadata": {},
   "cell_type": "markdown",
   "source": [
    "## 2. Send a message\n",
    "Send a message to the contact you just added. Enter their username and the message below.\n",
    "Look in the TeleguardActions class for the correct function to call"
   ],
   "id": "af79bbdb9adccb76"
  },
  {
   "metadata": {},
   "cell_type": "code",
   "source": [
    "recipient_username = '' # Username or group name you will send a message to\n",
    "message = '' # Message to send\n",
    "\n",
    "# Insert the correct function from TeleguardActions below to send a message\n"
   ],
   "id": "acade0fe3801f89b",
   "outputs": [],
   "execution_count": null
  }
 ],
 "metadata": {
  "kernelspec": {
   "display_name": "Python 3",
   "language": "python",
   "name": "python3"
  },
  "language_info": {
   "codemirror_mode": {
    "name": "ipython",
    "version": 2
   },
   "file_extension": ".py",
   "mimetype": "text/x-python",
   "name": "python",
   "nbconvert_exporter": "python",
   "pygments_lexer": "ipython2",
   "version": "2.7.6"
  }
 },
 "nbformat": 4,
 "nbformat_minor": 5
}
