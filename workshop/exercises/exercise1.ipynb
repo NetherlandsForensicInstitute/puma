{
 "cells": [
  {
   "cell_type": "markdown",
   "id": "d323f90cdc18a63c",
   "metadata": {},
   "source": [
    "# Exercise 1: Use Puma to send a message"
   ]
  },
  {
   "cell_type": "markdown",
   "id": "784f71d3bcbbe363",
   "metadata": {},
   "source": [
    "In this exercise, we will learn how to use existing features in Puma through a few simple actions.\n",
    "We will add a contact and send a message in chat app TeleGuard.\n",
    "\n",
    "## 0. Set up TeleGuard\n",
    "\n",
    "Because registering only needs to be done once in this workshop, automating it with Puma does not really have added value. Thus, we will do the steps below manually:\n",
    "\n",
    "1. Open the app\n",
    "2. Tap Register\n",
    "3. Enter a username\n",
    "4. Agree to terms and tap register\n",
    "\n",
    "Your TeleGuard ID is displayed in a \"chat\" with TeleGuard, and can be shared with other users to message one another.\n",
    "\n",
    "Fill in your device udid and initialize TeleguardActions.\n",
    "\n",
    "The device udid can be found by running\n",
    "```bash\n",
    "adb devices\n",
    "```\n",
    "from your terminal, or execute the next block:\n"
   ]
  },
  {
   "cell_type": "code",
   "execution_count": null,
   "id": "cc65b88dbc0a303",
   "metadata": {},
   "outputs": [],
   "source": [
    "# Get the name of your connected device\n",
    "!adb devices"
   ]
  },
  {
   "cell_type": "code",
   "execution_count": null,
   "id": "dc9a1c51374c125b",
   "metadata": {},
   "outputs": [],
   "source": [
    "# Set device udid. Fill in the device name printed by the previous cell\n",
    "device_udid = \"YOUR DEVICE UDID\""
   ]
  },
  {
   "cell_type": "code",
   "execution_count": null,
   "id": "76d1e8172bad6f89",
   "metadata": {},
   "outputs": [],
   "source": [
    "from puma.apps.android.teleguard.teleguard import TeleguardActions\n",
    "\n",
    "# This initializes an object through which we can execute TeleGuard actions. Initialization can take a while.\n",
    "teleguard = TeleguardActions(device_udid)"
   ]
  },
  {
   "cell_type": "markdown",
   "id": "e5c58078c0558bfb",
   "metadata": {},
   "source": [
    "You probably got an error stating Appium is not running. To establish a connection to the Appium driver, we need to start Appium first.\n",
    "In a terminal, run the command\n",
    "```bash\n",
    "appium\n",
    "```\n",
    "Then rerun the above code."
   ]
  },
  {
   "cell_type": "markdown",
   "id": "817ece1227f186fc",
   "metadata": {},
   "source": [
    "### Appium\n",
    "Appium is a framework for testing applications, based on Selenium. In Puma, we use Appium to execute actions on the device.\n",
    "In this context, we define functions in Python that exist of one or more `Appium actions`. An Appium action is an action on the phone, for instance tapping on an element. In our Python code, we define functions executing one or more\n",
    "Appium actions, for instance `send_message()` where the message box is tapped, text is added to the box and the send button is clicked."
   ]
  },
  {
   "cell_type": "markdown",
   "id": "235eaaef7ce837aa",
   "metadata": {},
   "source": [
    "## 1a. Add a contact\n",
    "To send messages, you need to have someone to talk to. This can be done by either adding a contact yourself, or by having someone else add you as a contact.\n",
    "The TeleGuard ID of the workshop host is visible on screen, add them! Enter the ID in the cell below and execute the code:"
   ]
  },
  {
   "cell_type": "code",
   "execution_count": null,
   "id": "f6c194ccbd25dc07",
   "metadata": {},
   "outputs": [],
   "source": [
    "contact_id = '' # TeleGuard ID of the person you want to add\n",
    "teleguard.add_contact(contact_id)"
   ]
  },
  {
   "cell_type": "markdown",
   "id": "5fd81f20-a908-4836-b645-5e6dc815c97f",
   "metadata": {},
   "source": [
    "You can also ask the ID(s) of your neighbor(s), and add them as well to send them messages. Add their IDs to the code below and execute the cell:"
   ]
  },
  {
   "cell_type": "code",
   "execution_count": null,
   "id": "232a5a0a-304b-4d01-9924-958ff40e7a5c",
   "metadata": {},
   "outputs": [],
   "source": [
    "neighbors = ['',]  # Fill in TeleGuard IDs of your neighbors (as many as you want)\n",
    "for n in neighbors:\n",
    "    teleguard.add_contact(n)"
   ]
  },
  {
   "cell_type": "markdown",
   "id": "d3b581410726eb6",
   "metadata": {},
   "source": [
    "## 1b. Accept invite\n",
    "If you are the invitee, accept the invite."
   ]
  },
  {
   "cell_type": "code",
   "execution_count": null,
   "id": "f8dd628eab3a4491",
   "metadata": {},
   "outputs": [],
   "source": [
    "teleguard.accept_invite()"
   ]
  },
  {
   "cell_type": "markdown",
   "id": "af79bbdb9adccb76",
   "metadata": {},
   "source": [
    "## 2. Send a message\n",
    "Send a message to the contact you just added. Enter their username and the message below.\n",
    "Look in the TeleGuardActions class for the correct function to call:\n",
    "`puma.apps.android.teleguard.teleguard.TeleGuardActions`"
   ]
  },
  {
   "cell_type": "code",
   "execution_count": null,
   "id": "acade0fe3801f89b",
   "metadata": {},
   "outputs": [],
   "source": [
    "recipient_username = '' # Username or group name you will send a message to\n",
    "message = '' # Message to send\n",
    "\n",
    "# Insert the correct function from TeleGuardActions below to send a message\n"
   ]
  }
 ],
 "metadata": {
  "kernelspec": {
   "display_name": "Python 3 (ipykernel)",
   "language": "python",
   "name": "python3"
  },
  "language_info": {
   "codemirror_mode": {
    "name": "ipython",
    "version": 3
   },
   "file_extension": ".py",
   "mimetype": "text/x-python",
   "name": "python",
   "nbconvert_exporter": "python",
   "pygments_lexer": "ipython3",
   "version": "3.13.2"
  }
 },
 "nbformat": 4,
 "nbformat_minor": 5
}
