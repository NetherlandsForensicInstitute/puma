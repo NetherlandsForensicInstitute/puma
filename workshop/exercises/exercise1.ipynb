{
 "cells": [
  {
   "metadata": {},
   "cell_type": "markdown",
   "source": "# Exercise 1: Use Puma to send a message",
   "id": "d323f90cdc18a63c"
  },
  {
   "metadata": {},
   "cell_type": "markdown",
   "source": [
    "In this exercise, we will use existing functionality to learn how to use Puma. We will send a message in chat\n",
    "    app Teleguard.\n",
    "\n",
    "## 0. Set up Teleguard\n",
    "\n",
    "1. Open the app\n",
    "2. Tap Register\n",
    "3. Enter a username\n",
    "4. Agree to terms and tap register\n",
    "\n",
    "Your Teleguard ID is displayed in a \"chat\" with Teleguard, and can be shared with other users to message one another.\n",
    "\n",
    "Fill in your device udid and initialize TeleguardActions.\n",
    "\n",
    "The device udid can be found by running\n",
    "```\n",
    "adb devices\n",
    "```\n",
    "from your terminal.\n"
   ],
   "id": "784f71d3bcbbe363"
  },
  {
   "metadata": {
    "ExecuteTime": {
     "end_time": "2025-02-03T15:23:52.951019Z",
     "start_time": "2025-02-03T15:23:52.707376Z"
    }
   },
   "cell_type": "code",
   "source": [
    "from puma.apps.android.teleguard.teleguard import TeleguardActions\n",
    "# TODO empty\n",
    "device_udid = '32131JEHN38079' # This is the id of your device, execute `adb devices`\n",
    "teleguard = TeleguardActions(device_udid)\n",
    "print(teleguard)"
   ],
   "id": "76d1e8172bad6f89",
   "outputs": [
    {
     "name": "stdout",
     "output_type": "stream",
     "text": [
      "WARNING: there already was an initialized driver for appium server http://localhost:4723 and udid 32131JEHN38079. This driver will be used, which might mean your appium capabilities are ignored as these cannot bealtered for a driver that has already been initialized. If you need specific capabilities, please rewrite your Puma code to ensure the correct capabilities are loaded the first time you connect to server http://localhost:4723 and device 32131JEHN38079.\n",
      "<puma.apps.android.teleguard.teleguard.TeleguardActions object at 0x7fc7200c2050>\n"
     ]
    }
   ],
   "execution_count": 6
  },
  {
   "metadata": {},
   "cell_type": "markdown",
   "source": [
    "## 1. Add a contact\n",
    "Add a contact based on their Teleguard ID. Our Teleguard ID is shown on the screen. Enter it below and run the cell"
   ],
   "id": "235eaaef7ce837aa"
  },
  {
   "metadata": {},
   "cell_type": "code",
   "outputs": [],
   "execution_count": null,
   "source": "contact_id = '' # Teleguard ID of the person you will spam\n",
   "id": "f6c194ccbd25dc07"
  },
  {
   "metadata": {},
   "cell_type": "markdown",
   "source": [
    "## 2. Send a message\n",
    "Send a message to the contact you just added. Enter their username and the message below"
   ],
   "id": "af79bbdb9adccb76"
  },
  {
   "metadata": {},
   "cell_type": "code",
   "outputs": [],
   "execution_count": null,
   "source": [
    "recipient_username = '' # Username of the person you will spam\n",
    "message = '' # Message to send\n",
    "\n"
   ],
   "id": "acade0fe3801f89b"
  }
 ],
 "metadata": {
  "kernelspec": {
   "display_name": "Python 3",
   "language": "python",
   "name": "python3"
  },
  "language_info": {
   "codemirror_mode": {
    "name": "ipython",
    "version": 2
   },
   "file_extension": ".py",
   "mimetype": "text/x-python",
   "name": "python",
   "nbconvert_exporter": "python",
   "pygments_lexer": "ipython2",
   "version": "2.7.6"
  }
 },
 "nbformat": 4,
 "nbformat_minor": 5
}
