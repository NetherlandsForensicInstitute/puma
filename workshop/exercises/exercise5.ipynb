{
 "cells": [
  {
   "cell_type": "markdown",
   "id": "9ba749fe-1860-4923-bc39-8ec2ed5316b1",
   "metadata": {},
   "source": [
    "# Exercise 5: Create your own scenario\n",
    "You should now have all the tools that you need to create any scenario you want.  \n",
    "This exercise is for you to fill in however you want!  \n",
    "Continue working on the application support that you started in the previous exercise, or create a more real world scenario.  \n",
    "For example:  \n",
    "You could send a message in TeleGuard that you are on your way home.  \n",
    "You open the camera app and snap a quick selfie.  \n",
    "Before setting off you start your music player and set it to your favourite podcast.  \n",
    "Finally, you open the navigation app of your choice and start navigation towards 'home'.  \n",
    "\n",
    "Try out how well switching between applications works, push youw own app to its limits!  \n",
    "We are curious to see what you can come up with, and would love to see your results committed to the repo!"
   ]
  }
 ],
 "metadata": {
  "kernelspec": {
   "display_name": "Python 3 (ipykernel)",
   "language": "python",
   "name": "python3"
  },
  "language_info": {
   "codemirror_mode": {
    "name": "ipython",
    "version": 3
   },
   "file_extension": ".py",
   "mimetype": "text/x-python",
   "name": "python",
   "nbconvert_exporter": "python",
   "pygments_lexer": "ipython3",
   "version": "3.11.11"
  }
 },
 "nbformat": 4,
 "nbformat_minor": 5
}
