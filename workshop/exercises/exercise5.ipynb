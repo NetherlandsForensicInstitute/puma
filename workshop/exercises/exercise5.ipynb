{
 "cells": [
  {
   "cell_type": "markdown",
   "id": "330d153b-b227-46fb-b00b-71f74d31054c",
   "metadata": {},
   "source": [
    "# Exercise 5: Add your own application support\n",
    "It is time to bring the just acquired knowledge into practice.  \n",
    "You can add your own application of interest to Puma!  \n",
    "A setup has been added already in the form of a new app `YourApp`.  \n",
    "Here you can add the support for an application that you wish to support.  \n",
    "Inspiration needed? Maybe you can try one of the following!\n",
    "\n",
    "- Signal\n",
    "- Discord\n",
    "- Reddit\n",
    "- Instagram\n",
    "\n",
    "Note that all the apps mentioned above require personal data to register an account.  \n",
    "Alternatively you could look at some applications which do not require an account, such as:  \n",
    "\n",
    "- Camera\n",
    "- Clock\n",
    "- Photos\n",
    "- Any other default installed application on the emulator\n",
    "\n",
    "If none of the options seem interesting enough, maybe you can think of another application?  \n",
    "Maybe you know a chat application that you would like to explore?  \n",
    "Or maybe you know a location-based application with which you can experiment with location spoofing? (For inspiration how to add spoofing you can look at the Google Maps support in the Puma project.)\n",
    "\n",
    "\n",
    "Pay attention to the following:\n",
    "- The package name of your app should be added at the top of the implementation class (Easiest way to do this is to search for your app on the playstore website and retrieve the package name from the URL. Alternatively you could use ADB to retrieve the application from the current window that is in focus.)\n",
    "- Add the version of the app that you are currently going to support (This version can often be found in the app itself, alternatively ADB can be used to retrieve it from the running app.)"
   ]
  },
  {
   "cell_type": "code",
   "execution_count": null,
   "id": "a9f77047-809a-4d5a-bbcf-6b05c8352c28",
   "metadata": {},
   "outputs": [],
   "source": [
    "from puma.apps.android.your_app.your_app import YourAppActions\n",
    "\n",
    "# Set device udid. If your device udid is different, run adb devices and change the udid\n",
    "device_udid = \"YOUR DEVICE UDID\"\n",
    "\n",
    "your_app = YourAppActions(device_udid)\n",
    "your_app.your_app_function()"
   ]
  },
  {
   "cell_type": "markdown",
   "id": "e8e8dde7-5984-467b-8fec-783b7a661d3c",
   "metadata": {},
   "source": [
    "Below is an excerpt of the requirements that we use for contributions to the Puma source code. (See the [Contributing.md](https://github.com/pumaworkshop/puma-workshop/blob/main/CONTRIBUTING.md) for the full guidelines).\n",
    "_Note that, for this workshop, not all requirements have to be met to push to the repository._  \n",
    "We encourage you to create a branch and push your application support for as far as you have it! Ask us for write permissions for your GitHub account or an SSH key to get write permissions. To prevent duplicate branch names, try to name it in a unique manner, e.g.: _your_application_4random_numbers_\n",
    "\n",
    "\n",
    "## Requirements for merging\n",
    "- All contributions to the project must be submitted via pull request.\n",
    "- Ensure that your pull request addresses a specific issue or feature request. If none exists, please open a new issue first to discuss the changes you'd like to make.\n",
    "- Follow the [GitHub Flow](https://guides.github.com/introduction/flow/) workflow:\n",
    "  1. Create a new branch from `main`. The branch name should start with the issue number. When adding support for a new\n",
    "  version of an application, please do this in 1 single issue.\n",
    "  2. Make your changes and commit them with descriptive commit messages. See the sections [Adding New Functionality](#adding-new-functionality) or [Supporting new app versions](#supporting-new-app-versions).\n",
    "  3. Submit a pull request to the main repository's `main` branch.\n",
    "- Ensure that your code adheres to the project's [coding standards and conventions](#coding-standards).\n",
    "- Provide a clear and detailed description of your changes in the pull request description.\n",
    "\n",
    "\n",
    "### Development requirements\n",
    "- OS: we test on Windows & Linux\n",
    "- [Appium Inspector](https://github.com/appium/appium-inspector)\n",
    "- See the [README.md](README.md) for the usage requirements\n",
    "\n",
    "\n",
    "### Coding Standards\n",
    "- **PEP Compliance**: Adhere to PEP 8 for code style. Use PEP 484 for typing hints. Refer to the [PEP 8 documentation](https://www.python.org/dev/peps/pep-0008/) for guidelines.\n",
    "- **Typing Hints**: Use typing hints on all method signatures, including arguments and return values.\n",
    "- **Documentation**: PyDoc should be in the reStructuredText style, and include the parameters and return value.\n",
    "\n",
    "\n",
    "### Documentation\n",
    "- **Pydoc**: Add pydoc to all methods, fully explaining the method, its arguments, and any limitations. Protected methods (prefixed with `_`) do not need documentation.\n",
    "- **Update App README**: If a new major feature is added (e.g., stickers, pictures, calls), update the application-specific README to reflect these changes.\n",
    "\n",
    "#### App Version Support:\n",
    "Any pull request to the `main` branch must **fully** support a specific version of the application. (See [Supporting new app versions](#supporting-new-app-versions)) This version should be\n",
    "newer than the version currently supported by the codebase."
   ]
  }
 ],
 "metadata": {
  "kernelspec": {
   "display_name": "Python 3 (ipykernel)",
   "language": "python",
   "name": "python3"
  },
  "language_info": {
   "codemirror_mode": {
    "name": "ipython",
    "version": 3
   },
   "file_extension": ".py",
   "mimetype": "text/x-python",
   "name": "python",
   "nbconvert_exporter": "python",
   "pygments_lexer": "ipython3",
   "version": "3.13.2"
  }
 },
 "nbformat": 4,
 "nbformat_minor": 5
}
