{
 "cells": [
  {
   "cell_type": "markdown",
   "id": "29cbd753-4d7a-4f50-be00-bb7d4ca6173f",
   "metadata": {},
   "source": [
    "# Exercise 3: Fix a Puma script after UI change\n",
    "In this exercise, we will look at alterations that need to be made after an app update which changes UI functionality"
   ]
  },
  {
   "cell_type": "markdown",
   "id": "b9b810b5-813e-43c9-a800-09da9a8a57c6",
   "metadata": {},
   "source": [
    "## 1. Run the script\n",
    "Below is the script as originally written.\n",
    "It used to do the following steps in Google Chrome:\n",
    "- Go to google.com\n",
    "- Bookmark the current page\n",
    "- Go to wikipedia.org\n",
    "- Open a new tab, and go to imdb.com\n",
    "- Load the first saved bookmark\n",
    "- Switch to the first open tab\n",
    "- Open incognito mode and search for \"DFRWS is awesome!\"\n"
   ]
  },
  {
   "cell_type": "markdown",
   "id": "46a266af-4a39-45c1-a88d-5412600c2224",
   "metadata": {},
   "source": [
    "chrome_actions = GoogleChromeActions(\"emulator-5554\")\n",
    "sleep(1)\n",
    "chrome_actions.go_to(\"google.com\")\n",
    "chrome_actions.bookmark_page()\n",
    "chrome_actions.go_to(\"en.wikipedia.org\")\n",
    "chrome_actions.go_to(\"www.imdb.com\", True)\n",
    "chrome_actions.load_bookmark()\n",
    "chrome_actions.switch_to_tab()\n",
    "chrome_actions.go_to_incognito(\"DFRWS is awesome!\")"
   ]
  },
  {
   "cell_type": "markdown",
   "id": "d64da429-6c82-43f8-9049-9425928a7375",
   "metadata": {},
   "source": [
    "## 2. Debug\n",
    "As you might have noticed, the script exits with an exception.  \n",
    "After an app update, the UI has changed slightly which results in a faulty run.  \n",
    "What are the changes required to make the script useable again, and what could potentially be done to lower the risk of small changes resulting in failing scripts?\n"
   ]
  },
  {
   "cell_type": "code",
   "execution_count": null,
   "id": "a37399f2-2c38-4740-9de4-7ee9d05b4cde",
   "metadata": {},
   "outputs": [],
   "source": []
  }
 ],
 "metadata": {
  "kernelspec": {
   "display_name": "Python 3 (ipykernel)",
   "language": "python",
   "name": "python3"
  },
  "language_info": {
   "codemirror_mode": {
    "name": "ipython",
    "version": 3
   },
   "file_extension": ".py",
   "mimetype": "text/x-python",
   "name": "python",
   "nbconvert_exporter": "python",
   "pygments_lexer": "ipython3",
   "version": "3.11.11"
  }
 },
 "nbformat": 4,
 "nbformat_minor": 5
}
