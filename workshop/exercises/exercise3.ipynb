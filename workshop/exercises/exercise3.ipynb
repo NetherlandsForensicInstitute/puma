{
 "cells": [
  {
   "cell_type": "markdown",
   "id": "29cbd753-4d7a-4f50-be00-bb7d4ca6173f",
   "metadata": {},
   "source": [
    "# Exercise 3: Fix a Puma script after a UI change\n",
    "In this exercise, we will look at what happens when an app update breaks Puma code due to UI changes."
   ]
  },
  {
   "cell_type": "markdown",
   "id": "b9b810b5-813e-43c9-a800-09da9a8a57c6",
   "metadata": {},
   "source": [
    "## 1. Run the script\n",
    "Below is a puma script we want to execute.\n",
    "It should do the following steps in Google Chrome:\n",
    "- Go to google.com\n",
    "- Bookmark the current page\n",
    "- Go to wikipedia.org\n",
    "- Open a new tab, and go to imdb.com\n",
    "- Load the first saved bookmark\n",
    "- Switch to the first open tab\n",
    "- Open incognito mode and search for \"DFRWS is awesome!\"\n"
   ]
  },
  {
   "cell_type": "code",
   "execution_count": null,
   "id": "473c5cf3-aaed-4cc4-b267-599ea844250b",
   "metadata": {},
   "outputs": [],
   "source": [
    "from puma.apps.android.google_chrome.google_chrome import GoogleChromeActions\n",
    "# Set device udid. If your device udid is different, run adb devices and change the udid\n",
    "device_udid = \"YOUR DEVICE UDID\"\n",
    "chrome_actions = GoogleChromeActions(device_udid)"
   ]
  },
  {
   "cell_type": "code",
   "execution_count": null,
   "id": "c754811f-81d5-4b7e-b7ed-45f41abf6dbd",
   "metadata": {},
   "outputs": [],
   "source": [
    "chrome_actions.go_to(\"google.com\")\n",
    "chrome_actions.bookmark_page()\n",
    "chrome_actions.go_to(\"en.wikipedia.org\")\n",
    "chrome_actions.go_to(\"www.imdb.com\", new_tab=True)\n",
    "chrome_actions.load_bookmark()\n",
    "chrome_actions.switch_to_tab()\n",
    "chrome_actions.go_to_incognito(\"DFRWS is awesome!\")"
   ]
  },
  {
   "cell_type": "markdown",
   "id": "d64da429-6c82-43f8-9049-9425928a7375",
   "metadata": {},
   "source": [
    "## 2. Debug\n",
    "As you might have noticed, the script exits with an exception. An app update seems to have changes the UI a bit,\n",
    "and now our Puma code no logner works!\n",
    "Changes to applications happen regularly, these changes can break your app automation script that uses Puma.Therefore Puma\n",
    "needs to be maintained to maintain support for newer app versions when they are released. This exercise is about experiencing\n",
    "an updated application which results in a broken app automation script.\n",
    "What are the changes required to make the script useable again, and what could potentially be done to lower the risk of small changes resulting in failing scripts?\n",
    "Below are all the steps of the script separately for easier debugging.\n",
    "\n",
    "In the steps below three different (manufactured) problems occur, can you identify and fix them?  \n",
    "**NOTE**: The steps themselfs are not the problem. The GoogleChromeActions class contains the bugs.  \n",
    "\n",
    "**HINT**: Remember the XPath parameters, and make sure that the changes are backwards compatible.\n"
   ]
  },
  {
   "cell_type": "code",
   "execution_count": null,
   "id": "a37399f2-2c38-4740-9de4-7ee9d05b4cde",
   "metadata": {},
   "outputs": [],
   "source": [
    "chrome_actions.go_to(\"google.com\")"
   ]
  },
  {
   "cell_type": "code",
   "execution_count": null,
   "id": "383f1a8c-4ece-4e4f-8cd1-4cb97fa7bbde",
   "metadata": {},
   "outputs": [],
   "source": [
    "chrome_actions.bookmark_page()"
   ]
  },
  {
   "cell_type": "code",
   "execution_count": null,
   "id": "abff6646-5e49-4e21-b4f5-7eb62366b6c9",
   "metadata": {},
   "outputs": [],
   "source": [
    "chrome_actions.go_to(\"en.wikipedia.org\")"
   ]
  },
  {
   "cell_type": "code",
   "execution_count": null,
   "id": "4c9f580e-f56c-4ff0-842a-916b04936697",
   "metadata": {},
   "outputs": [],
   "source": [
    "chrome_actions.go_to(\"www.imdb.com\", new_tab=True)"
   ]
  },
  {
   "cell_type": "code",
   "execution_count": null,
   "id": "554a420c-90e7-4d33-a0a5-64b0109d955c",
   "metadata": {},
   "outputs": [],
   "source": [
    "chrome_actions.load_bookmark()"
   ]
  },
  {
   "cell_type": "code",
   "execution_count": null,
   "id": "32e4e06a-94b7-4b79-a89d-e07ea1eb6aec",
   "metadata": {},
   "outputs": [],
   "source": [
    "chrome_actions.switch_to_tab()"
   ]
  },
  {
   "cell_type": "code",
   "execution_count": null,
   "id": "9fac49ab-ec84-499b-9a45-3590e95e5ab2",
   "metadata": {},
   "outputs": [],
   "source": [
    "chrome_actions.go_to_incognito(\"DFRWS is awesome!\")"
   ]
  },
  {
   "cell_type": "markdown",
   "id": "72dc6d0c-698c-4685-96ad-8ca83bf5fd1a",
   "metadata": {},
   "source": [
    "<details>\n",
    "  <summary style=\"font-size: 24px;\">Solution 1</summary>\n",
    "  In the `go_to` method, we try to switch to a different tab. The content of the description of the button has changed and is no longer `Switch`. This needs to be changed to a XPath Contains query.\n",
    "</details>\n",
    "\n",
    "<details>\n",
    "  <summary style=\"font-size: 24px;\">Solution 2</summary>\n",
    "  In the `bookmark_page` method, the content of the description has changed from lower-case to upper-case. A case-insensitive match should be used to keep it backwards compatible.\n",
    "</details>\n",
    "\n",
    "<details>\n",
    "  <summary style=\"font-size: 24px;\">Solution 3</summary>\n",
    "  In the `go_to_incognito` method, we try to open a window by clicking the icon with three buttons. The content of the description of the button has changed and is no longer `Customize`. This needs to be changed to a XPath Contains query.\n",
    "</details>"
   ]
  }
 ],
 "metadata": {
  "kernelspec": {
   "display_name": "Python 3 (ipykernel)",
   "language": "python",
   "name": "python3"
  },
  "language_info": {
   "codemirror_mode": {
    "name": "ipython",
    "version": 3
   },
   "file_extension": ".py",
   "mimetype": "text/x-python",
   "name": "python",
   "nbconvert_exporter": "python",
   "pygments_lexer": "ipython3",
   "version": "3.13.2"
  }
 },
 "nbformat": 4,
 "nbformat_minor": 5
}
