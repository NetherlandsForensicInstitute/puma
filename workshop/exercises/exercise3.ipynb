{
 "cells": [
  {
   "cell_type": "markdown",
   "id": "29cbd753-4d7a-4f50-be00-bb7d4ca6173f",
   "metadata": {},
   "source": [
    "# Exercise 3: Fix a Puma script after UI change\n",
    "In this exercise, we will look at alterations that need to be made after an app update which changes UI functionality"
   ]
  },
  {
   "cell_type": "markdown",
   "id": "b9b810b5-813e-43c9-a800-09da9a8a57c6",
   "metadata": {},
   "source": [
    "## 1. Run the script\n",
    "Below is the script as originally written.\n",
    "It used to do the following steps in Google Chrome:\n",
    "- Go to google.com\n",
    "- Bookmark the current page\n",
    "- Go to wikipedia.org\n",
    "- Open a new tab, and go to imdb.com\n",
    "- Load the first saved bookmark\n",
    "- Switch to the first open tab\n",
    "- Open incognito mode and search for \"DFRWS is awesome!\"\n"
   ]
  },
  {
   "cell_type": "code",
   "execution_count": null,
   "id": "473c5cf3-aaed-4cc4-b267-599ea844250b",
   "metadata": {},
   "outputs": [],
   "source": [
    "%load_ext autoreload\n",
    "%autoreload 2\n",
    "    \n",
    "from puma.apps.android.google_chrome.google_chrome import GoogleChromeActions\n",
    "\n",
    "\n",
    "chrome_actions = GoogleChromeActions(\"emulator-5554\")"
   ]
  },
  {
   "cell_type": "code",
   "execution_count": null,
   "id": "c754811f-81d5-4b7e-b7ed-45f41abf6dbd",
   "metadata": {},
   "outputs": [],
   "source": [
    "chrome_actions.go_to(\"google.com\")\n",
    "chrome_actions.bookmark_page()\n",
    "chrome_actions.go_to(\"en.wikipedia.org\")\n",
    "chrome_actions.go_to(\"www.imdb.com\", new_tab=True)\n",
    "chrome_actions.load_bookmark()\n",
    "chrome_actions.switch_to_tab()\n",
    "chrome_actions.go_to_incognito(\"DFRWS is awesome!\")"
   ]
  },
  {
   "cell_type": "markdown",
   "id": "d64da429-6c82-43f8-9049-9425928a7375",
   "metadata": {},
   "source": [
    "## 2. Debug\n",
    "As you might have noticed, the script exits with an exception.  \n",
    "After an app update, the UI has changed slightly which results in a faulty run.  \n",
    "What are the changes required to make the script useable again, and what could potentially be done to lower the risk of small changes resulting in failing scripts?  \n",
    "Below are all the steps of the script separately for easier debugging.\n",
    "\n",
    "\n",
    "\n",
    "\n",
    "In the steps below three different (manufactured) problems occur, can you identify and fix them?  \n",
    "NOTE: The steps themselfs are not the problem. The GoogleChromeActions class contains the bugs.  \n",
    "\n",
    "HINT: Remember the XPATH parameters, and make sure that the changes are backwards compatible.\n"
   ]
  },
  {
   "cell_type": "code",
   "execution_count": null,
   "id": "a37399f2-2c38-4740-9de4-7ee9d05b4cde",
   "metadata": {},
   "outputs": [],
   "source": [
    "chrome_actions.go_to(\"google.com\")"
   ]
  },
  {
   "cell_type": "code",
   "execution_count": null,
   "id": "383f1a8c-4ece-4e4f-8cd1-4cb97fa7bbde",
   "metadata": {},
   "outputs": [],
   "source": [
    "chrome_actions.bookmark_page()"
   ]
  },
  {
   "cell_type": "code",
   "execution_count": null,
   "id": "abff6646-5e49-4e21-b4f5-7eb62366b6c9",
   "metadata": {},
   "outputs": [],
   "source": [
    "chrome_actions.go_to(\"en.wikipedia.org\")"
   ]
  },
  {
   "cell_type": "code",
   "execution_count": null,
   "id": "4c9f580e-f56c-4ff0-842a-916b04936697",
   "metadata": {},
   "outputs": [],
   "source": [
    "chrome_actions.go_to(\"www.imdb.com\", new_tab=True)"
   ]
  },
  {
   "cell_type": "code",
   "execution_count": null,
   "id": "554a420c-90e7-4d33-a0a5-64b0109d955c",
   "metadata": {},
   "outputs": [],
   "source": [
    "chrome_actions.load_bookmark()"
   ]
  },
  {
   "cell_type": "code",
   "execution_count": null,
   "id": "32e4e06a-94b7-4b79-a89d-e07ea1eb6aec",
   "metadata": {},
   "outputs": [],
   "source": [
    "chrome_actions.switch_to_tab()"
   ]
  },
  {
   "cell_type": "code",
   "execution_count": null,
   "id": "9fac49ab-ec84-499b-9a45-3590e95e5ab2",
   "metadata": {},
   "outputs": [],
   "source": [
    "chrome_actions.go_to_incognito(\"DFRWS is awesome!\")"
   ]
  }
 ],
 "metadata": {
  "kernelspec": {
   "display_name": "Python 3 (ipykernel)",
   "language": "python",
   "name": "python3"
  },
  "language_info": {
   "codemirror_mode": {
    "name": "ipython",
    "version": 3
   },
   "file_extension": ".py",
   "mimetype": "text/x-python",
   "name": "python",
   "nbconvert_exporter": "python",
   "pygments_lexer": "ipython3",
   "version": "3.11.11"
  }
 },
 "nbformat": 4,
 "nbformat_minor": 5
}
